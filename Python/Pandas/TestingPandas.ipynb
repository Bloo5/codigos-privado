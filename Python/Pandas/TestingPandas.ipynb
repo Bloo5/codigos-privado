{
 "cells": [
  {
   "cell_type": "code",
   "execution_count": 2,
   "metadata": {},
   "outputs": [],
   "source": [
    "import pandas as pd\n",
    "from sqlalchemy import create_engine\n",
    "import numpy as np\n",
    "from string import Template"
   ]
  },
  {
   "cell_type": "code",
   "execution_count": 8,
   "metadata": {},
   "outputs": [],
   "source": [
    "password = \"ewqiop90\"\n",
    "port = \"5432\"\n",
    "user = \"postgres\"\n",
    "db_name = \"leandroRevest0816\"\n",
    "host = \"10.1.1.115\"\n",
    "nome_tabela = input('Qual o nome da tabela? ')\n",
    "\n",
    "def get_connection():\n",
    "   return create_engine(\n",
    "      url=\"postgresql://{0}:{1}@{2}:{3}/{4}\".format(\n",
    "         user, password, host, port, db_name\n",
    "      )\n",
    "   )\n",
    "\n",
    "connection=get_connection()\n",
    "getcolunas = \" select * from \"+nome_tabela+\" limit 500\" #\n",
    "\n",
    "with connection.connect().execution_options(autocommit=True) as conn:\n",
    "   df = pd.read_sql(getcolunas, con = conn)"
   ]
  },
  {
   "cell_type": "code",
   "execution_count": 35,
   "metadata": {},
   "outputs": [
    {
     "name": "stdout",
     "output_type": "stream",
     "text": [
      "<class 'pandas.core.frame.DataFrame'>\n",
      "RangeIndex: 500 entries, 0 to 499\n",
      "Data columns (total 6 columns):\n",
      " #   Column        Non-Null Count  Dtype         \n",
      "---  ------        --------------  -----         \n",
      " 0   acegid        500 non-null    int64         \n",
      " 1   augid         500 non-null    int64         \n",
      " 2   mod_codigo    103 non-null    float64       \n",
      " 3   aceginclusao  500 non-null    datetime64[ns]\n",
      " 4   acegexclusao  416 non-null    datetime64[ns]\n",
      " 5   aceid         395 non-null    float64       \n",
      "dtypes: datetime64[ns](2), float64(2), int64(2)\n",
      "memory usage: 23.6 KB\n"
     ]
    }
   ],
   "source": []
  }
 ],
 "metadata": {
  "kernelspec": {
   "display_name": "Python 3.9.12 ('base')",
   "language": "python",
   "name": "python3"
  },
  "language_info": {
   "codemirror_mode": {
    "name": "ipython",
    "version": 3
   },
   "file_extension": ".py",
   "mimetype": "text/x-python",
   "name": "python",
   "nbconvert_exporter": "python",
   "pygments_lexer": "ipython3",
   "version": "3.9.12"
  },
  "orig_nbformat": 4,
  "vscode": {
   "interpreter": {
    "hash": "341e9ca9d7de5880446b012cc4aa17b18604720d2bec7a1bc814db1955ba4b8b"
   }
  }
 },
 "nbformat": 4,
 "nbformat_minor": 2
}
