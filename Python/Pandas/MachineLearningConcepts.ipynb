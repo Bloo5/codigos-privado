{
 "cells": [
  {
   "cell_type": "code",
   "execution_count": 23,
   "metadata": {},
   "outputs": [],
   "source": [
    "import numpy as np\n",
    "import matplotlib.pyplot as plt\n",
    "from scipy import stats\n",
    "from sklearn.metrics import r2_score\n"
   ]
  },
  {
   "cell_type": "code",
   "execution_count": 9,
   "metadata": {},
   "outputs": [
    {
     "name": "stdout",
     "output_type": "stream",
     "text": [
      "mean 89.76923076923077\n",
      "median 89.76923076923077\n",
      "mode ModeResult(mode=array([86]), count=array([3]))\n"
     ]
    }
   ],
   "source": [
    "###Mean, Median, Mode\n",
    "speed = [99,86,87,88,111,86,103,87,94,78,77,85,86]\n",
    "\n",
    "#Mean o valor médio\n",
    "mean = np.mean(speed)\n",
    "\n",
    "#Median o valor no meio (quando ordenado)\n",
    "median = np.mean(speed)\n",
    "\n",
    "#Mode é o valor mais comum\n",
    "mode = stats.mode(speed)\n",
    "\n",
    "print('mean',mean)\n",
    "print('median',median)\n",
    "print('mode',mode)"
   ]
  },
  {
   "cell_type": "code",
   "execution_count": 11,
   "metadata": {},
   "outputs": [
    {
     "name": "stdout",
     "output_type": "stream",
     "text": [
      "Desvio Padrão 9.258292301032677\n",
      "Variancia 85.71597633136093\n"
     ]
    }
   ],
   "source": [
    "###Standard Deviation (desvio padrão)\n",
    "speed = [99,86,87,88,111,86,103,87,94,78,77,85,86]\n",
    "\n",
    "#Determina o desvio padrão\n",
    "std = np.std(speed)\n",
    "\n",
    "#Variancia (outro metodo de pegar o desvio padrão)\n",
    "var = np.var(speed)\n",
    "\n",
    "#ps: std é raiz quadrada de var\n",
    "print('Desvio Padrão',std)\n",
    "print('Variancia', var)"
   ]
  },
  {
   "cell_type": "code",
   "execution_count": 13,
   "metadata": {},
   "outputs": [
    {
     "name": "stdout",
     "output_type": "stream",
     "text": [
      "2.0 0% das pessoas estão abaixo dessa idade\n",
      "11.0 25% das pessoas estão abaixo dessa idade\n",
      "31.0 50% das pessoas estão abaixo dessa idade\n",
      "43.0 75% das pessoas estão abaixo dessa idade\n",
      "82.0 100% das pessoas estão abaixo dessa idade\n"
     ]
    }
   ],
   "source": [
    "ages = [5,31,43,48,50,41,7,11,15,39,80,82,32,2,8,6,25,36,27,61,31]\n",
    "\n",
    "zero     = np.percentile(ages, 0)\n",
    "primeiro = np.percentile(ages, 25)\n",
    "segundo  = np.percentile(ages, 50)\n",
    "terceiro = np.percentile(ages, 75)\n",
    "quarto   = np.percentile(ages, 100)\n",
    "\n",
    "print(zero,       '0% das pessoas estão abaixo dessa idade')\n",
    "print(primeiro,   '25% das pessoas estão abaixo dessa idade')\n",
    "print(segundo,    '50% das pessoas estão abaixo dessa idade')\n",
    "print(terceiro,   '75% das pessoas estão abaixo dessa idade')\n",
    "print(quarto,     '100% das pessoas estão abaixo dessa idade')"
   ]
  },
  {
   "cell_type": "code",
   "execution_count": null,
   "metadata": {},
   "outputs": [],
   "source": [
    "###Data distribution (distrubuição de dados)\n",
    "\n",
    "data = np.random.uniform(0.0, 10.0, 100000)\n",
    "\n",
    "plt.hist(data, 100)\n",
    "plt.show()"
   ]
  },
  {
   "cell_type": "code",
   "execution_count": null,
   "metadata": {},
   "outputs": [],
   "source": [
    "###Data distribution (distrubuição de dados)\n",
    "\n",
    "data = np.random.normal(5.0, 1.0, 100000)\n",
    "\n",
    "plt.hist(data, 100)\n",
    "plt.show()"
   ]
  },
  {
   "cell_type": "code",
   "execution_count": null,
   "metadata": {},
   "outputs": [],
   "source": [
    "###Scatter\n",
    "idade = [5,7,8,7,2,17,2,9,4,11,12,9,6]\n",
    "\n",
    "velocidade = [99,86,87,88,111,86,103,87,94,78,77,85,86]\n",
    "\n",
    "plt.scatter(idade, velocidade)\n",
    "plt.show()"
   ]
  },
  {
   "cell_type": "code",
   "execution_count": null,
   "metadata": {},
   "outputs": [],
   "source": [
    "###random scatter\n",
    "\n",
    "x = np.random.normal(5.0, 1.0, 1000)\n",
    "y = np.random.normal(10.0, 2.0, 1000)\n",
    "\n",
    "plt.scatter(x, y)\n",
    "plt.show()"
   ]
  },
  {
   "cell_type": "code",
   "execution_count": null,
   "metadata": {},
   "outputs": [],
   "source": [
    "###Regressão Linear\n",
    "\n",
    "idade = [5,7,8,7,2,17,2,9,4,11,12,9,6]\n",
    "\n",
    "velocidade = [99,86,87,88,111,86,103,87,94,78,77,85,86]\n",
    "\n",
    "slope, intercept, r, p, std_err = stats.linregress(idade, velocidade)\n",
    "\n",
    "def myfunc(x):\n",
    "  return slope * x + intercept\n",
    "\n",
    "mymodel = list(map(myfunc, idade))\n",
    "\n",
    "plt.scatter(idade, velocidade)\n",
    "plt.plot(idade, mymodel)\n",
    "plt.show()"
   ]
  },
  {
   "cell_type": "code",
   "execution_count": 13,
   "metadata": {},
   "outputs": [
    {
     "name": "stdout",
     "output_type": "stream",
     "text": [
      "-0.7585915243761551\n"
     ]
    }
   ],
   "source": [
    "###Relacionamento\n",
    "#valor que varia entre -1 e 1 que indica qual o relacionamento entre x e y\n",
    "#-1 significa que o relacionamento é o oposto, quanto maior o valor de x, menor sera y\n",
    "# 0 significa que é completamente aleatorio, e não possui relacionamento\n",
    "# 1 significa que é relacionamento normal, quanto maior x, maior sera y\n",
    "\n",
    "idade = [5,7,8,7,2,17,2,9,4,11,12,9,6]\n",
    "velocidade = [99,86,87,88,111,86,103,87,94,78,77,85,86]\n",
    "\n",
    "slope, intercept, r, p, std_err = stats.linregress(idade, velocidade)\n",
    "\n",
    "print(r)"
   ]
  },
  {
   "cell_type": "code",
   "execution_count": 15,
   "metadata": {},
   "outputs": [
    {
     "name": "stdout",
     "output_type": "stream",
     "text": [
      "85.59308314937454\n"
     ]
    }
   ],
   "source": [
    "###Prevendo futuros valores\n",
    "#usando relacinamento, é possivel prever os futuros valores, quanto mais perto de -1 e 1\n",
    "#mais exato sera o resultado\n",
    "\n",
    "idade = [5,7,8,7,2,17,2,9,4,11,12,9,6]\n",
    "velocidade = [99,86,87,88,111,86,103,87,94,78,77,85,86]\n",
    "\n",
    "slope, intercept, r, p, std_err = stats.linregress(idade, velocidade)\n",
    "\n",
    "def myfunc(x):\n",
    "  return slope * x + intercept\n",
    "\n",
    "#caso tiver 10 anos\n",
    "speed = myfunc(10)\n",
    "\n",
    "#provavelmente tera essa velocidade\n",
    "print(speed)"
   ]
  },
  {
   "cell_type": "code",
   "execution_count": null,
   "metadata": {},
   "outputs": [],
   "source": [
    "###Regressão Polynomial\n",
    "\n",
    "horario_poli    = [1,2,3,5,6,7,8,9,10,12,13,14,15,16,18,19,21,22]\n",
    "velocidade_poli = [100,90,80,60,60,55,60,65,70,70,75,76,78,79,90,99,99,100]\n",
    "\n",
    "plt.scatter(horario_poli, velocidade_poli)\n",
    "plt.show()"
   ]
  },
  {
   "cell_type": "code",
   "execution_count": null,
   "metadata": {},
   "outputs": [],
   "source": [
    "###Linha Polynomial\n",
    "mymodel = np.poly1d(np.polyfit(horario_poli, velocidade_poli, 3))\n",
    "\n",
    "myline = np.linspace(1, 22, 100)\n",
    "\n",
    "plt.scatter(horario_poli, velocidade_poli)\n",
    "plt.plot(myline, mymodel(myline))\n",
    "plt.show()"
   ]
  },
  {
   "cell_type": "code",
   "execution_count": 25,
   "metadata": {},
   "outputs": [
    {
     "name": "stdout",
     "output_type": "stream",
     "text": [
      "0.9432150416451026\n"
     ]
    }
   ],
   "source": [
    "###Relacionamento\n",
    "print(r2_score(velocidade_poli, mymodel(horario_poli)))"
   ]
  },
  {
   "cell_type": "code",
   "execution_count": 27,
   "metadata": {},
   "outputs": [
    {
     "name": "stdout",
     "output_type": "stream",
     "text": [
      "88.87331269698007\n"
     ]
    }
   ],
   "source": [
    "###Prevendo o futuro valor\n",
    "mymodel = np.poly1d(np.polyfit(horario_poli, velocidade_poli, 3))\n",
    "\n",
    "#um carro vindo as 17 horas\n",
    "speed = mymodel(17)\n",
    "\n",
    "#tera essa velocidade\n",
    "print(speed)"
   ]
  }
 ],
 "metadata": {
  "kernelspec": {
   "display_name": "Python 3.9.6 64-bit",
   "language": "python",
   "name": "python3"
  },
  "language_info": {
   "codemirror_mode": {
    "name": "ipython",
    "version": 3
   },
   "file_extension": ".py",
   "mimetype": "text/x-python",
   "name": "python",
   "nbconvert_exporter": "python",
   "pygments_lexer": "ipython3",
   "version": "3.9.6"
  },
  "orig_nbformat": 4,
  "vscode": {
   "interpreter": {
    "hash": "81794d4967e6c3204c66dcd87b604927b115b27c00565d3d43f05ba2f3a2cb0d"
   }
  }
 },
 "nbformat": 4,
 "nbformat_minor": 2
}
