{
 "cells": [
  {
   "cell_type": "markdown",
   "metadata": {},
   "source": [
    "#### File structure\n",
    "\n",
    "    |   Pages\n",
    "    |       1_Principal.py\n",
    "    |       2_ETC.py\n",
    "    |       3_ETC.py\n",
    "\n",
    "--------"
   ]
  },
  {
   "cell_type": "markdown",
   "metadata": {},
   "source": [
    "#### Install & Import"
   ]
  },
  {
   "cell_type": "markdown",
   "metadata": {},
   "source": [
    "##### install"
   ]
  },
  {
   "cell_type": "code",
   "execution_count": null,
   "metadata": {},
   "outputs": [],
   "source": [
    "! pip install streamlit"
   ]
  },
  {
   "cell_type": "markdown",
   "metadata": {},
   "source": [
    "##### import"
   ]
  },
  {
   "cell_type": "code",
   "execution_count": null,
   "metadata": {},
   "outputs": [],
   "source": [
    "import streamlit as st"
   ]
  },
  {
   "cell_type": "markdown",
   "metadata": {},
   "source": [
    "##### initiate"
   ]
  },
  {
   "cell_type": "code",
   "execution_count": null,
   "metadata": {},
   "outputs": [],
   "source": [
    "! streamlit run first_app.py"
   ]
  },
  {
   "cell_type": "markdown",
   "metadata": {},
   "source": [
    "------\n",
    "#### Components"
   ]
  },
  {
   "cell_type": "code",
   "execution_count": null,
   "metadata": {},
   "outputs": [],
   "source": [
    "boolean = st.button(\"Click me\")\n",
    "\n",
    "st.download_button(\"Download file\", data)\n",
    "\n",
    "st.feedback(\"thumbs\")\n",
    "\n",
    "st.link_button(\"Go to gallery\", url)\n",
    "\n",
    "st.page_link(\"app.py\", label=\"Home\")\n",
    "\n",
    "st.data_editor(\"Edit data\", data)\n",
    "\n",
    "boolean = st.checkbox(\"I agree\")\n",
    "\n",
    "boolean = st.toggle(\"Enable\")\n",
    "\n",
    "string = st.radio(\"Pick one\", [\"cats\", \"dogs\"])\n",
    "\n",
    "string = st.selectbox(\"Pick one\", [\"cats\", \"dogs\"])\n",
    "\n",
    "string = st.multiselect(\"Buy\", [\"milk\", \"apples\", \"potatoes\"])\n",
    "\n",
    "nun = st.slider(\"Pick a number\", 0, 100)\n",
    "\n",
    "string = st.select_slider(\"Pick a size\", [\"S\", \"M\", \"L\"])\n",
    "\n",
    "string = st.text_input(\"First name\")\n",
    "\n",
    "st.number_input(\"Pick a number\", 0, 10)\n",
    "\n",
    "string = st.text_area(\"Text to translate\")\n",
    "\n",
    "st.date_input(\"Your birthday\")\n",
    "\n",
    "st.time_input(\"Meeting time\")\n",
    "\n",
    "st.file_uploader(\"Upload a CSV\")\n",
    "\n",
    "st.camera_input(\"Take a picture\")\n",
    "\n",
    "string = st.color_picker(\"Pick a color\")"
   ]
  },
  {
   "cell_type": "markdown",
   "metadata": {},
   "source": [
    "##### Settings"
   ]
  },
  {
   "cell_type": "code",
   "execution_count": null,
   "metadata": {},
   "outputs": [],
   "source": [
    "st.set_page_config(layout='wide')"
   ]
  },
  {
   "cell_type": "markdown",
   "metadata": {},
   "source": []
  }
 ],
 "metadata": {
  "kernelspec": {
   "display_name": "Python 3.11.9 64-bit",
   "language": "python",
   "name": "python3"
  },
  "language_info": {
   "name": "python",
   "version": "3.11.9"
  },
  "orig_nbformat": 4,
  "vscode": {
   "interpreter": {
    "hash": "ead1b95f633dc9c51826328e1846203f51a198c6fb5f2884a80417ba131d4e82"
   }
  }
 },
 "nbformat": 4,
 "nbformat_minor": 2
}
