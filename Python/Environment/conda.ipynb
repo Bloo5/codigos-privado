{
 "cells": [
  {
   "cell_type": "markdown",
   "metadata": {},
   "source": [
    "Creating an env\n",
    "\n",
    "```\n",
    "conda create -n <env_name> python=<python_version>\n",
    "```\n",
    "\n",
    "Activating env\n",
    "\n",
    "```\n",
    "conda activate <env_name>\n",
    "```\n",
    "Deactivating env\n",
    "```\n",
    "conda deactivate\n",
    "```\n",
    "\n",
    "Enabling on jupyter notebook\n",
    "```\n",
    "pip instal ipykernel\n",
    "\n",
    "python3 -m ipykernel install --user --name=<env_name>\n",
    "```\n",
    "\n",
    "Removing an kernel from notebook\n",
    "```\n",
    "jupyter kernelspec uninstall unwanted-kernel\n",
    "```"
   ]
  }
 ],
 "metadata": {
  "language_info": {
   "name": "python"
  }
 },
 "nbformat": 4,
 "nbformat_minor": 2
}
