{
 "cells": [
  {
   "cell_type": "markdown",
   "metadata": {},
   "source": [
    "### creating an env\n",
    "\n",
    "python3 -m venv <env_name>\n",
    "\n",
    "### accessing the env\n",
    "\n",
    "source <env_name>/bin/activate\n",
    "\n",
    "### leaving the env\n",
    "\n",
    "deactivate\n",
    "\n",
    "### installing requirements.txt\n",
    "\n",
    "pip install -r requirements.txt\n",
    "\n",
    "### enabling env on the notebooks\n",
    "(on environment)\n",
    "\n",
    "pip instal ipykernel\n",
    "\n",
    "python3 -m ipykernel install --user --name=<env_name>"
   ]
  }
 ],
 "metadata": {
  "kernelspec": {
   "display_name": "Python 3.11.9 64-bit",
   "language": "python",
   "name": "python3"
  },
  "language_info": {
   "name": "python",
   "version": "3.11.9"
  },
  "orig_nbformat": 4,
  "vscode": {
   "interpreter": {
    "hash": "ead1b95f633dc9c51826328e1846203f51a198c6fb5f2884a80417ba131d4e82"
   }
  }
 },
 "nbformat": 4,
 "nbformat_minor": 2
}
