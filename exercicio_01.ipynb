{
 "cells": [
  {
   "cell_type": "code",
   "execution_count": 1,
   "metadata": {},
   "outputs": [],
   "source": [
    "import pandas as pd"
   ]
  },
  {
   "cell_type": "code",
   "execution_count": 2,
   "metadata": {},
   "outputs": [],
   "source": [
    "df = pd.read_csv('../2006-sample.csv')"
   ]
  },
  {
   "cell_type": "code",
   "execution_count": 26,
   "metadata": {},
   "outputs": [
    {
     "name": "stdout",
     "output_type": "stream",
     "text": [
      "Companhas: ['MQ' 'DL' 'WN' 'AS' 'US' 'XE' 'OO' 'FL' 'EV' 'OH' 'F9' 'NW' 'CO' 'AQ'\n",
      " 'YV' 'AA' 'UA' 'B6' 'HA' 'TZ']\n",
      "2381\n"
     ]
    }
   ],
   "source": [
    "print(f\"Companhas: {df['UniqueCarrier'].unique()}\")\n",
    "\n",
    "companhia = input('Companhia: ')\n",
    "\n",
    "groupby_companhia = df.groupby('UniqueCarrier')\n",
    "\n",
    "atraso_filtro = df[(df['ArrDelay'] <= 0)].index\n",
    "\n",
    "quantidade_atraso = df.drop(atraso_filtro)\n",
    "quantidade_atraso = quantidade_atraso.dropna(subset=['ArrDelay'])\n",
    "quantidade_atraso = quantidade_atraso[quantidade_atraso.UniqueCarrier.isin([companhia])]\n",
    "\n",
    "atrasos = groupby_companhia.sum().loc[companhia].loc['ArrDelay']\n",
    "\n",
    "por_hora = atrasos/60\n",
    "\n",
    "print(quantidade_atraso.shape[0])"
   ]
  },
  {
   "cell_type": "code",
   "execution_count": 28,
   "metadata": {},
   "outputs": [],
   "source": [
    "max = df['ArrDelay'].max()"
   ]
  }
 ],
 "metadata": {
  "kernelspec": {
   "display_name": "Python 3.10.5 64-bit",
   "language": "python",
   "name": "python3"
  },
  "language_info": {
   "codemirror_mode": {
    "name": "ipython",
    "version": 3
   },
   "file_extension": ".py",
   "mimetype": "text/x-python",
   "name": "python",
   "nbconvert_exporter": "python",
   "pygments_lexer": "ipython3",
   "version": "3.10.5"
  },
  "orig_nbformat": 4,
  "vscode": {
   "interpreter": {
    "hash": "f2c372e89d7a2a116d8a0a9081fd3550958e75836fcf570714f29caee5840d0c"
   }
  }
 },
 "nbformat": 4,
 "nbformat_minor": 2
}
