{
 "cells": [
  {
   "cell_type": "markdown",
   "metadata": {},
   "source": [
    "#### Instalar o viewer\n",
    "\n",
    "- crie um ambiente conda\n",
    "- no ambiente, instale:\n",
    "    - python3 -m pip install depthai-viewer\n"
   ]
  },
  {
   "cell_type": "markdown",
   "metadata": {},
   "source": [
    "#### Rodar o viewer\n",
    "- conda activate camera\n",
    "- python3 -m depthai_viewer"
   ]
  }
 ],
 "metadata": {
  "language_info": {
   "name": "python"
  }
 },
 "nbformat": 4,
 "nbformat_minor": 2
}
