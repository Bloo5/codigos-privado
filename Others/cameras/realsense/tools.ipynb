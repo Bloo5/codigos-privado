{
 "cells": [
  {
   "cell_type": "markdown",
   "metadata": {},
   "source": [
    "### Viewer\n",
    "#### Instalar o viewer\n",
    "- sudo mkdir -p /etc/apt/keyrings\n",
    "curl -sSf https://librealsense.intel.com/Debian/librealsense.pgp | sudo tee /etc/apt/keyrings/librealsense.pgp > /dev/null\n",
    "- echo \"deb [signed-by=/etc/apt/keyrings/librealsense.pgp] https://librealsense.intel.com/Debian/apt-repo `lsb_release -cs` main\" | \\\n",
    "sudo tee /etc/apt/sources.list.d/librealsense.list\n",
    "sudo apt-get update\n",
    "- sudo apt-get install librealsense2-dkms\n",
    "- sudo apt-get install librealsense2-utils\n",
    "- optionals:\n",
    "  - sudo apt-get install librealsense2-dev\n",
    "  - sudo apt-get install librealsense2-dbg\n",
    "\n",
    "#### Iniciando o viewer\n",
    "- no terminal\n",
    "  - realsense-viewer"
   ]
  },
  {
   "cell_type": "markdown",
   "metadata": {},
   "source": [
    "### Calibrador\n",
    "#### Instalar Calibrador\n",
    "\n",
    "- Instalar dependencias\n",
    "  - sudo apt-get update\n",
    "  - sudo apt-get install libusb-dev libusb-1.0-0-dev\n",
    "  - sudo apt-get install libglfw3 libglfw3-dev\n",
    "  - sudo apt-get install freeglut3 freeglut3-dev\n",
    "\n",
    "- Instalar API\n",
    "  - sudo add-apt-repository \"deb https://librealsense.intel.com/Debian/apt-repo $(lsb_release -cs) main\" -u\n",
    "  - sudo apt-key adv --keyserver keyserver.ubuntu.com --recv-key\n",
    "F6E65AC044F831AC80A06380C8B3A55A6F3EFCDE || sudo apt-key adv --keyserver\n",
    "hkp://keyserver.ubuntu.com:80 --recv-key F6E65AC044F831AC80A06380C8B3A55A6F3EFCDE\n",
    "  - sudo apt-get update\n",
    "  - sudo apt-get install librscalibrationtool\n",
    "\n",
    "#### Rodar Calibrador\n",
    "- /usr/bin/Intel.Realsense.DynamicCalibrator\n",
    "\n",
    "#### Desinstalar\n",
    "- sudo dpkg -r librscalibrationtool"
   ]
  }
 ],
 "metadata": {
  "language_info": {
   "name": "python"
  }
 },
 "nbformat": 4,
 "nbformat_minor": 2
}
